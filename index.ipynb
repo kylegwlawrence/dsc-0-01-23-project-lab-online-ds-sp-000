{
 "cells": [
  {
   "cell_type": "markdown",
   "metadata": {},
   "source": [
    "# Project: Analyzing Macbeth"
   ]
  },
  {
   "cell_type": "markdown",
   "metadata": {},
   "source": [
    "## Introduction\n",
    "For our first day and first data science project, we're going to do some rudimentry analysis of Shakespeare's classic play: Macbeth! You will get practice working with lists, condtionals and dictionaries, visualizing data, and thinking analytically about data."
   ]
  },
  {
   "cell_type": "markdown",
   "metadata": {},
   "source": [
    "## Objectives\n",
    "You will be able to:\n",
    "* Show mastery of the content covered in this section"
   ]
  },
  {
   "cell_type": "markdown",
   "metadata": {},
   "source": [
    "### Getting the Data\n",
    "Here we start by importing a python package and using it to pull the transcript of Macbeth from the project Gutenberg website. We also preview a few details about what is now stored in the variable macbeth; it's a string with 119,846 characters, the first 500 of which are printed below. "
   ]
  },
  {
   "cell_type": "code",
   "execution_count": 62,
   "metadata": {},
   "outputs": [
    {
     "name": "stdout",
     "output_type": "stream",
     "text": [
      "<class 'str'>\n",
      "119846\n",
      "s\r\n",
      "A prosperous Gentleman: And to be King,\r\n",
      "Stands not within the prospect of beleefe,\r\n",
      "No more then to be Cawdor. Say from whence\r\n",
      "You owe this strange Intelligence, or why\r\n",
      "Vpon this blasted Heath you stop our way\r\n",
      "With such Prophetique greeting?\r\n",
      "Speake, I charge you.\r\n",
      "\r\n",
      "Witches vanish.\r\n",
      "\r\n",
      "  Banq. The Earth hath bubbles, as the Water ha's,\r\n",
      "And these are of them: whither are they vanish'd?\r\n",
      "  Macb. Into the Ayre: and what seem'd corporall,\r\n",
      "Melted, as breath into the Winde.\r\n",
      "Would they had stay'd\r\n",
      "\r\n",
      "   Banq. Were such things here, as we doe speake about?\r\n",
      "Or haue we eaten on the insane Root,\r\n",
      "That takes the Reason Prisoner?\r\n",
      "  Macb. Your Children shall be Kings\r\n",
      "\r\n",
      "   Banq. You shall be King\r\n",
      "\r\n",
      "   Macb. And Thane of Cawdor too: went it not so?\r\n",
      "  Banq. Toth' selfe-same tune and words: who's here?\r\n",
      "Enter Rosse and Angus.\r\n",
      "\r\n",
      "  Rosse. The King hath happily receiu'd, Macbeth,\r\n",
      "The newes of thy successe: and when he reades\r\n",
      "Thy personall Venture in the Rebels sight,\r\n",
      "His Wonders and his P\n"
     ]
    }
   ],
   "source": [
    "import pandas as pd\n",
    "import matplotlib.pyplot as plt\n",
    "import requests\n",
    "macbeth = requests.get('http://www.gutenberg.org/cache/epub/2264/pg2264.txt').text\n",
    "\n",
    "print(type(macbeth))\n",
    "print(len(macbeth))\n",
    "print(macbeth[23000:24000])"
   ]
  },
  {
   "cell_type": "markdown",
   "metadata": {},
   "source": [
    "### Your Task\n",
    "\n",
    "Your task is to create a bar graph of the 25 most common words in the Shakespeare's Macbeth.  \n",
    "\n",
    "\n",
    "A common python programming pattern to counting objects, produce histograms, or update statistics is to make calls to a dictionary as you iterate through a list. For example, given a list of words, you can create a dictionary to store counts and then iterate through the list of words, checking how many times each word has appeared using your dictionary, and updating the dictionary count now that you've seen that word again. The `dictionary.get()` method is very useful in doing this. Read the docstring for the dictionary.get() method and use it along with the pseudocode above to create a bar graph of the 25 most common words from the transcript of Macbeth which has been loaded into a variable 'Macbeth'. Be sure to include a title and appropriate labels for your graph."
   ]
  },
  {
   "cell_type": "code",
   "execution_count": 54,
   "metadata": {
    "scrolled": false
   },
   "outputs": [
    {
     "data": {
      "image/png": "[encoded data removed]",
      "text/plain": [
       "<Figure size 864x432 with 1 Axes>"
      ]
     },
     "metadata": {
      "needs_background": "light"
     },
     "output_type": "display_data"
    }
   ],
   "source": [
    "# Your code here\n",
    "\n",
    "# Pseudo-code Outline\n",
    "# Split the transcript into words\n",
    "words_list = macbeth.split()\n",
    "\n",
    "# Create a dictionary\n",
    "words_dict = dict()\n",
    "\n",
    "# Iterate through the text of Macbeth\n",
    "for word in words_list:\n",
    "    # Update word counts\n",
    "    words_dict[word] = words_dict.get(word, 0) + 1\n",
    "\n",
    "#create df to order data\n",
    "df = pd.DataFrame(list(words_dict.items()), columns = ['word', 'count']).sort_values(by='count', ascending=False)\n",
    "\n",
    "# Create Bar Graph\n",
    "plt.figure(figsize=(12,6))\n",
    "plt.bar(x='word', height='count', data=df.head(25))\n",
    "\n",
    "# Include descriptive titles and labels\n",
    "plt.title(\"Unique Word Count in Shakespeare's Macbeth\")\n",
    "plt.xlabel(\"word\")\n",
    "plt.ylabel(\"count\")\n",
    "\n",
    "plt.show()"
   ]
  },
  {
   "cell_type": "markdown",
   "metadata": {},
   "source": [
    "### Level Up (Optional)\n",
    "This project should take you about an hour and a half to complete. If you're done much more quickly than that and are not behind in the course, feel free to deepen your knowledge by completing any or all of the following tasks until you run out of time:\n",
    "* Create a list of top characters by mentions of their names \n",
    "* Split the text by which character is talking\n",
    "* Create sub graphs of the most common words by character\n",
    "* Reduce the string to the text of the play itself. (Remove any initial notes, forward, introduction, appendix, etc.)\n",
    "* Come up with some other fun analyses of the text!"
   ]
  },
  {
   "cell_type": "markdown",
   "metadata": {},
   "source": [
    "## Summary\n",
    "Congratulations! You've got some extra practice combining various data types into useful programming patterns and done an intitial analysis of a classic text!"
   ]
  }
 ],
 "metadata": {
  "kernelspec": {
   "display_name": "Python 3",
   "language": "python",
   "name": "python3"
  },
  "language_info": {
   "codemirror_mode": {
    "name": "ipython",
    "version": 3
   },
   "file_extension": ".py",
   "mimetype": "text/x-python",
   "name": "python",
   "nbconvert_exporter": "python",
   "pygments_lexer": "ipython3",
   "version": "3.6.6"
  }
 },
 "nbformat": 4,
 "nbformat_minor": 2
}
